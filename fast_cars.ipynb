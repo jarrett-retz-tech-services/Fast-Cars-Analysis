{
 "cells": [
  {
   "cell_type": "markdown",
   "metadata": {},
   "source": [
    "## Introduction\n",
    "\n",
    "I live on a busy street. Many people who drive by are in a hurry, and speeding has been a chronic problem. However, it's been difficult to describe how bad the speeding is. Our only evidence has come from accident reports on our street. Therefore, I'd like to use some statistics to see if I can prove that people routinely speed down our residential street.\n",
    "\n",
    "To do this, I'll set up an experiment to sample the speeds of cars driving past our house and do some hypothesis tests.\n",
    "\n",
    "I'll test whether the average speed of a car driving by our house is greater than 35 mph (the speed limit is 30 mph).\n",
    "\n",
    "## Experiment\n",
    "\n",
    "- The population parameter we want to estimate is from an infinite population, so we won't have to make any corrections for finite populations.\n",
    "- The speed of cars is a continuous random variable\n",
    "- The population distribution is unknown\n",
    "- The population standard deviation is unknown\n",
    "\n",
    "When I first thought of the experiment, I wanted to use the margin of error calculation to determine the sample size necessary for my desired margin of error for a confidence interval. However, not knowing whether the population was normally distributed and not knowing the population standard deviation meant I would have to use the t-distribution for this calculation. Unfortunately, I would need a sample size to determine the degrees of freedom (DOF) to get the t-statistic necessary, which I didn't have. Additionally, I didn't have the standard deviation but I could have done a pilot sample to remedy that limitation. Consequently, I was unable to perform this part of the experiment. \n",
    "\n",
    "But, if we were to *assume*: \n",
    "- The population is normally distributed\n",
    "- The population standard deviation is 5.07 (from our pilot sample)\n",
    "\n",
    "Then, we could choose a margin of error, say 1.5 mph, and calculate the need for 44 samples to achieve such a margin."
   ]
  },
  {
   "cell_type": "code",
   "execution_count": 9,
   "metadata": {},
   "outputs": [
    {
     "name": "stdout",
     "output_type": "stream",
     "text": [
      "Necessary sample size: 44\n"
     ]
    }
   ],
   "source": [
    "import math\n",
    "# If the population was normally distributed and we estimated the standard deviation to be 4.74\n",
    "# we could determine the sample size needed based on desired margin of error\n",
    "# and confidence level\n",
    "\n",
    "# Margin of error\n",
    "ME = 1.5\n",
    "\n",
    "# Critical value\n",
    "z = 1.96\n",
    "\n",
    "# Standard deviation\n",
    "est_std_dev = 5.07\n",
    "\n",
    "def div(this_number: float | int, by_this_number: float | int) -> float:\n",
    "    return this_number / by_this_number\n",
    "\n",
    "def mul(a: float | int, b: float | int) -> float:\n",
    "    return a * b\n",
    "\n",
    "def sample_size_from_ME(margin_of_error: float, z: float, est_std_dev: float):\n",
    "    return math.ceil(div(math.pow(mul(z, est_std_dev), 2), math.pow(margin_of_error, 2)))\n",
    "\n",
    "necessary_sample_size = sample_size_from_ME(ME, z, est_std_dev)\n",
    "\n",
    "# Print the necessary sample size based on margin of error\n",
    "print(f'Necessary sample size: {necessary_sample_size}')"
   ]
  },
  {
   "cell_type": "markdown",
   "metadata": {},
   "source": [
    "### Making Observations\n",
    "\n",
    "There are several options for measuring speed. However, I used a less accurate approach because this experiment was more about understanding statistical concepts. Consequently, to calculate speed I measured the distance of the road outside my house and timed how long it took cars to travel that distance. Then, I converted the measurements and divided the distance traveled by the time (in seconds).\n",
    "\n",
    "The distance I used in the experiment was 1,382 in. I came to this number by walking the distance from one lane dividing line (yellow dash in the middle of the roadway) to the start of a different lane dividing line. I took 45 paces between these two-lane dividing lines. Next, I looked up how to estimate the length of a person's stride based on their height. I'm 6'2\" and I read one can estimate their stride length by multiplying their height by 0.415. Subsequently, I took my approximate stride length and multiplied it by how many strides I took. This calculation gave me the distance in inches. Finally, I converted the value to miles."
   ]
  },
  {
   "cell_type": "code",
   "execution_count": 10,
   "metadata": {},
   "outputs": [
    {
     "name": "stdout",
     "output_type": "stream",
     "text": [
      "Distance: 0.021811 mi.\n"
     ]
    }
   ],
   "source": [
    "def stride_length_from_height(height: int) -> float:\n",
    "    return height * 0.415\n",
    "\n",
    "def inches_to_miles(inches: float | int) -> float:\n",
    "    return inches / 63360\n",
    "\n",
    "paces = 45\n",
    "\n",
    "height = 74 # inches\n",
    "\n",
    "stride_length = stride_length_from_height(height)\n",
    "\n",
    "distance_inches = mul(stride_length, paces)\n",
    "\n",
    "distance_inches_whole = round(distance_inches)\n",
    "\n",
    "distance_miles = inches_to_miles(distance_inches)\n",
    "\n",
    "print(\"Distance: {:.6f} mi.\".format(distance_miles))"
   ]
  },
  {
   "cell_type": "markdown",
   "metadata": {},
   "source": [
    "After calculating the distance I sampled car speeds using my iPhone's stopwatch app. When a car reached the end of the first lane dividing line I started the timer, and when it reached the start of the other lane dividing line I stopped the timer. I did this for 31 cars.\n",
    "\n",
    "I chose 31 cars as a minimum for using the t-distribution when the population distribution is unknown. Alternatively, I could have increased the accuracy by sampling 101 cars because the t-distribution and the normal distribution are almost identical at 100 degrees of freedom."
   ]
  },
  {
   "cell_type": "code",
   "execution_count": 11,
   "metadata": {},
   "outputs": [],
   "source": [
    "sampled_times_seconds = [2.3, 1.46, 2.15,2.38,2.58,2.53,2.4,2.23,2.08,2.66,2.54,2.48,2.2,2.66,2.38,2.66,2.31,2.26,2.58,2.85,2.23,2.33,2.36,3.21,2.26,2.83,2.75,2.68,3.06,2.50,2.60]"
   ]
  },
  {
   "cell_type": "markdown",
   "metadata": {},
   "source": [
    "## Descriptive Statistics\n",
    "\n",
    "Before calculating descriptive statistics on the data I want to convert the time values to MPH. To do this, I divided each value by 3600, because there are 60 seconds in a minute and 60 minutes in an hour.\n",
    "\n",
    "Next, I could take our converted distances in miles and divide it by our converted times in hours to get MPH. Finally, we can run a few calculations and check out some stats from our sample:\n",
    "- count:    31.000000\n",
    "- mean:     32.431042\n",
    "- std:       5.067071\n",
    "- min:      24.461024\n",
    "- 25%:      29.518754\n",
    "- 50%:      31.661245\n",
    "- 75%:      34.441197\n",
    "- max:      53.780744"
   ]
  },
  {
   "cell_type": "code",
   "execution_count": 12,
   "metadata": {},
   "outputs": [
    {
     "data": {
      "text/plain": [
       "count    31.000000\n",
       "mean     32.431042\n",
       "std       5.067071\n",
       "min      24.461024\n",
       "25%      29.518754\n",
       "50%      31.661245\n",
       "75%      34.441197\n",
       "max      53.780744\n",
       "dtype: float64"
      ]
     },
     "execution_count": 12,
     "metadata": {},
     "output_type": "execute_result"
    }
   ],
   "source": [
    "import pandas as pd\n",
    "\n",
    "def secs_to_hours(secs: float | int) -> float:\n",
    "    return div(secs, 3600)\n",
    "\n",
    "def miles_per_hour(distance: float, time: float) -> float:\n",
    "    return div(distance, time)\n",
    "\n",
    "sample_times_in_hours = [secs_to_hours(time) for time in sampled_times_seconds]\n",
    "\n",
    "# Calculate speed in miles per hour\n",
    "sample_speeds_mph = [miles_per_hour(distance_miles, time) for time in sample_times_in_hours]\n",
    "\n",
    "# Create a pandas series from the samples list\n",
    "sampled_times = pd.Series(sample_speeds_mph)\n",
    "\n",
    "# Get the descriptive statistics of the samples\n",
    "sampled_times.describe()"
   ]
  },
  {
   "cell_type": "markdown",
   "metadata": {},
   "source": [
    "## Confidence Interval\n",
    "\n"
   ]
  },
  {
   "cell_type": "markdown",
   "metadata": {},
   "source": [
    "A confidence interval is a range built around a sample mean that we might suspect holds the true population parameter given a certain level of confidence, typically defined as a percent.\n",
    "\n",
    "For example, we might say we are 95% percent confident the true population average is between 34-37 MPH based on our sample mean. In other words, if we took a large number of sample averages and built 95% confidence intervals around each, we would expect about 95% of the confidence intervals to contain the true population mean.\n",
    "\n",
    "To get our 95% confidence interval around the mean we can need to calculate the margin of error from a t-statistic, standard error of the mean, and the sample size. Using these values I calculated the margin of error at ~1.86 MPH."
   ]
  },
  {
   "cell_type": "code",
   "execution_count": 13,
   "metadata": {},
   "outputs": [
    {
     "name": "stdout",
     "output_type": "stream",
     "text": [
      "Margin of error: 1.8586167961404962\n"
     ]
    }
   ],
   "source": [
    "import math\n",
    "import scipy.stats as stats\n",
    "\n",
    "number_of_samples = len(sampled_times)\n",
    "\n",
    "def add(a: float, b: float) -> float:\n",
    "    return a + b\n",
    "\n",
    "def sub(a: float | int, b: float | int) -> float:\n",
    "    return float(a - b)\n",
    "\n",
    "def dof(samples_size: int) -> float:\n",
    "    return sub(samples_size, 1)\n",
    "\n",
    "def two_tail_confidence_prob(alpha: float):\n",
    "    return add(alpha, div(sub(1, alpha), 2))\n",
    "\n",
    "# Calculate the critical value from the t-distribution using a 95% confidence level with 30 degrees of freedom\n",
    "t_crit_val_for_me = stats.t.ppf(two_tail_confidence_prob(0.95), dof(number_of_samples))\n",
    "\n",
    "# Sample standard deviation\n",
    "sample_std_dev = sampled_times.std()\n",
    "\n",
    "# Standard error\n",
    "SE = div(sample_std_dev, math.sqrt(number_of_samples))\n",
    "\n",
    "# Margin of error\n",
    "ME = mul(float(t_crit_val_for_me), SE)\n",
    "\n",
    "# Print the margin of error\n",
    "print(f'Margin of error: {ME}')"
   ]
  },
  {
   "cell_type": "markdown",
   "metadata": {},
   "source": [
    "To get the confidence interval I simply added and subtracted the margin of error from the sample mean. Therefore we can say that with 95% confidence the true population mean for the speed of cars driving outside my house is between 31-34 (after rounding to nearest whole number). "
   ]
  },
  {
   "cell_type": "code",
   "execution_count": 14,
   "metadata": {},
   "outputs": [
    {
     "name": "stdout",
     "output_type": "stream",
     "text": [
      "Upper confidence interval: 34.28965835691181\n",
      "Lower confidence interval: 30.572424764630817\n"
     ]
    }
   ],
   "source": [
    "UCL = sampled_times.mean() + ME\n",
    "LCL = sampled_times.mean() - ME\n",
    "\n",
    "# Print the upper and lower confidence interval\n",
    "print(f'Upper confidence interval: {UCL}')\n",
    "print(f'Lower confidence interval: {LCL}')"
   ]
  },
  {
   "cell_type": "code",
   "execution_count": 15,
   "metadata": {},
   "outputs": [
    {
     "name": "stdout",
     "output_type": "stream",
     "text": [
      "Confidence interval: 30.572424764630817 to 34.28965835691181\n"
     ]
    }
   ],
   "source": [
    "# Using scipy to calculate the confidence interval\n",
    "CI = stats.t.interval(0.95, dof(number_of_samples), sampled_times.mean(), stats.sem(sampled_times))\n",
    "\n",
    "# Print the confidence interval\n",
    "print(f'Confidence interval: {CI[0]} to {CI[1]}')"
   ]
  },
  {
   "cell_type": "markdown",
   "metadata": {},
   "source": [
    "## Hypothesis Test\n",
    "\n",
    "### Critical Values\n",
    "\n",
    "From the very beginning, I wanted to test the claim that cars average more than 35 MPH driving by my house despite the speed limit being 30 MPH. We can write the null hypothesis like this:\n",
    "\n",
    "*Avg. speed of cars less than or equal to 35 MPH.*\n",
    "\n",
    "The first way to test this claim is to compare the t-stat to the t-critical statistic. \n",
    "\n",
    "T-Critical Value: **1.697**\n",
    "\n",
    "\n",
    "T-Test Stat: **-2.8228051488149637**\n",
    "\n",
    "The test statistic is nowhere near our critical value. Consequently, we fail to reject the null hypothesis. \n"
   ]
  },
  {
   "cell_type": "code",
   "execution_count": 16,
   "metadata": {},
   "outputs": [
    {
     "name": "stdout",
     "output_type": "stream",
     "text": [
      "Critical value: 1.6972608865939571\n"
     ]
    }
   ],
   "source": [
    "t_crit_value = stats.t.ppf(0.95, dof(number_of_samples))\n",
    "\n",
    "# Print the critical value\n",
    "print(f'Critical value: {t_crit_value}')"
   ]
  },
  {
   "cell_type": "code",
   "execution_count": 17,
   "metadata": {},
   "outputs": [
    {
     "name": "stdout",
     "output_type": "stream",
     "text": [
      "T-test statistic: -2.8228051488149637\n"
     ]
    }
   ],
   "source": [
    "sample_mean = sampled_times.mean()\n",
    "\n",
    "t_test_stat = div(sub(sample_mean, 35), div(sample_std_dev, math.sqrt(number_of_samples)))\n",
    "\n",
    "# Print the t-test statistic\n",
    "print(f'T-test statistic: {t_test_stat}')"
   ]
  },
  {
   "cell_type": "code",
   "execution_count": 18,
   "metadata": {},
   "outputs": [
    {
     "name": "stdout",
     "output_type": "stream",
     "text": [
      "T-test statistic: -2.8228051488149637\n",
      "P-value: 0.9958139556652821\n"
     ]
    }
   ],
   "source": [
    "# Run the t-test using scipy ttest_1samp\n",
    "t_stat, p_val = stats.ttest_1samp(sampled_times, 35, alternative='greater')\n",
    "\n",
    "# Print the t-test statistic and the p-value\n",
    "print(f'T-test statistic: {t_stat}')\n",
    "print(f'P-value: {p_val}')"
   ]
  },
  {
   "cell_type": "markdown",
   "metadata": {},
   "source": [
    "### P-Value\n",
    "\n",
    "The second way to test our hypothesis is to calculate and compare a p-value. A p-value is the probability of observing a result at least as extreme as the one observed if the null hypothesis is true.\n",
    "\n",
    "Given our desire for 95% confidence, our alpha value is 0.05 (1 - 0.95). We would need to observe a p-value less than 0.05 to reject the null hypothesis. Unfortunately for us, the p-value is huge: 0.9958.\n",
    "\n",
    "This observed p-value would cause us to once again fail to reject the null hypothesis."
   ]
  },
  {
   "cell_type": "code",
   "execution_count": 19,
   "metadata": {},
   "outputs": [
    {
     "name": "stdout",
     "output_type": "stream",
     "text": [
      "P-value: 0.9958139556652821\n"
     ]
    }
   ],
   "source": [
    "# Calculate the p-value\n",
    "p_value = stats.t.sf(t_test_stat, dof(number_of_samples))\n",
    "\n",
    "# Print the p-value\n",
    "print(f'P-value: {p_value}')"
   ]
  },
  {
   "cell_type": "markdown",
   "metadata": {},
   "source": [
    "### Compare Sample Means\n",
    "\n",
    "Early on in the analysis, we observed that the sample mean was approx. 32 MPH. The final way we can conduct the hypothesis test is to calculate what sample mean we would need to observe to reject the null and compare that to our observed sample mean.\n",
    "\n",
    "We can do this by solving the sample mean using our t-test stat equation. After a bit of algebra, I discovered a sample mean of about 36 MPH.\n",
    "\n",
    "Because our sample mean is well below the needed sample mean to reject the null, we must fail to reject the null hypothesis."
   ]
  },
  {
   "cell_type": "code",
   "execution_count": 20,
   "metadata": {},
   "outputs": [
    {
     "name": "stdout",
     "output_type": "stream",
     "text": [
      "Critical sample mean: 36.544631119869806\n"
     ]
    }
   ],
   "source": [
    "critical_sample_mean = add(35, mul(float(t_crit_value), div(sample_std_dev, math.sqrt(number_of_samples))))\n",
    "\n",
    "# Print the critical sample mean\n",
    "print(f'Critical sample mean: {critical_sample_mean}')\n"
   ]
  },
  {
   "cell_type": "code",
   "execution_count": 21,
   "metadata": {},
   "outputs": [
    {
     "name": "stdout",
     "output_type": "stream",
     "text": [
      "Critical sample mean: 36.544631119869806\n"
     ]
    }
   ],
   "source": [
    "# Use scipy to calculate the critical sample mean\n",
    "critical_sample_mean_scipy = stats.t.ppf(0.95, dof(number_of_samples), loc=35, scale=div(sample_std_dev, math.sqrt(number_of_samples)))\n",
    "\n",
    "# Print the critical sample mean\n",
    "print(f'Critical sample mean: {critical_sample_mean_scipy}')"
   ]
  },
  {
   "cell_type": "markdown",
   "metadata": {},
   "source": [
    "## Rule Breakers\n",
    "\n",
    "Although most people are not speeding down our street some go quite fast. Using our observed data, we can build a normal distribution and find that the probability of a car going greater than 45 MPH down our street is less than 1% given the true population mean is ~32 MPH and the true standard deviation is ~5 MPH. "
   ]
  },
  {
   "cell_type": "code",
   "execution_count": 22,
   "metadata": {},
   "outputs": [
    {
     "name": "stdout",
     "output_type": "stream",
     "text": [
      "Probability of getting a speed greater than 45 mph: 0.00655959427893249\n"
     ]
    }
   ],
   "source": [
    "prob_greater_than_45 = 1 - stats.norm.cdf(45, sample_mean, scale=sample_std_dev)\n",
    "\n",
    "# Print the probability\n",
    "print(f'Probability of getting a speed greater than 45 mph: {prob_greater_than_45}')"
   ]
  },
  {
   "cell_type": "markdown",
   "metadata": {},
   "source": [
    "## Conclusion\n",
    "\n",
    "Despite what our eyes tell us, we don't have a consistent speeding problem on our street. Still, just after I took these sample observations, construction started to modify an intersection just up the street as a \"traffic calming\" measure. In the future, when the construction is done (if ever), it will be fun to take another sample mean and see if the population mean has changed.\n",
    "\n",
    "Additionally, it would be interesting to perform a test to determine if the population is indeed normally distributed."
   ]
  }
 ],
 "metadata": {
  "kernelspec": {
   "display_name": "Python 3",
   "language": "python",
   "name": "python3"
  },
  "language_info": {
   "codemirror_mode": {
    "name": "ipython",
    "version": 3
   },
   "file_extension": ".py",
   "mimetype": "text/x-python",
   "name": "python",
   "nbconvert_exporter": "python",
   "pygments_lexer": "ipython3",
   "version": "3.12.2"
  }
 },
 "nbformat": 4,
 "nbformat_minor": 2
}
